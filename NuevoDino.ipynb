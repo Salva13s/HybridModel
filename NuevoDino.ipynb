{
  "cells": [
    {
      "cell_type": "markdown",
      "metadata": {
        "id": "view-in-github",
        "colab_type": "text"
      },
      "source": [
        "<a href=\"https://colab.research.google.com/github/Salva13s/HybridModel/blob/main/NuevoDino.ipynb\" target=\"_parent\"><img src=\"https://colab.research.google.com/assets/colab-badge.svg\" alt=\"Open In Colab\"/></a>"
      ]
    },
    {
      "cell_type": "code",
      "execution_count": null,
      "metadata": {
        "colab": {
          "base_uri": "https://localhost:8080/"
        },
        "id": "_sH1-CnbBUEZ",
        "outputId": "a71f2982-be28-43e2-a3b7-e5b400dc236b"
      },
      "outputs": [
        {
          "output_type": "stream",
          "name": "stdout",
          "text": [
            "Drive already mounted at /content/drive; to attempt to forcibly remount, call drive.mount(\"/content/drive\", force_remount=True).\n"
          ]
        }
      ],
      "source": [
        "from google.colab import drive\n",
        "drive.mount('/content/drive')"
      ]
    },
    {
      "cell_type": "code",
      "execution_count": null,
      "metadata": {
        "id": "t1dUN53SBerC"
      },
      "outputs": [],
      "source": [
        "import os\n",
        "\n",
        "folder_path = '/content/drive/MyDrive/1 Tesis/Data/PersonDataset/test/Real'\n",
        "images = os.listdir(folder_path)\n",
        "#print(images)"
      ]
    },
    {
      "cell_type": "code",
      "execution_count": null,
      "metadata": {
        "colab": {
          "base_uri": "https://localhost:8080/"
        },
        "id": "46jx9b5lGYjQ",
        "outputId": "f3ba3a36-f4a6-450b-888e-a3004776f7e0"
      },
      "outputs": [
        {
          "output_type": "stream",
          "name": "stdout",
          "text": [
            "/content\n"
          ]
        }
      ],
      "source": [
        "import os\n",
        "HOME = os.getcwd()\n",
        "print(HOME)"
      ]
    },
    {
      "cell_type": "code",
      "execution_count": null,
      "metadata": {
        "colab": {
          "base_uri": "https://localhost:8080/"
        },
        "id": "Xnt8AUuvKeCm",
        "outputId": "538e1383-4d20-400e-9c6a-5700e8b02c9d"
      },
      "outputs": [
        {
          "output_type": "stream",
          "name": "stdout",
          "text": [
            "/content\n",
            "fatal: destination path 'GroundingDINO' already exists and is not an empty directory.\n",
            "/content/GroundingDINO\n",
            "  Preparing metadata (setup.py) ... \u001b[?25l\u001b[?25hdone\n",
            "\u001b[31mERROR: pip's dependency resolver does not currently take into account all the packages that are installed. This behaviour is the source of the following dependency conflicts.\n",
            "groundingdino-py 0.4.0 requires supervision==0.6.0, but you have supervision 0.25.0 which is incompatible.\u001b[0m\u001b[31m\n",
            "\u001b[0m"
          ]
        }
      ],
      "source": [
        "%cd {HOME}\n",
        "!git clone https://github.com/IDEA-Research/GroundingDINO.git\n",
        "%cd {HOME}/GroundingDINO\n",
        "!pip install -q -e ."
      ]
    },
    {
      "cell_type": "code",
      "execution_count": null,
      "metadata": {
        "colab": {
          "base_uri": "https://localhost:8080/"
        },
        "id": "WfpOEjDmLGTD",
        "outputId": "d8ef9d45-b43e-46da-e5fe-ef2615cbb730"
      },
      "outputs": [
        {
          "output_type": "stream",
          "name": "stdout",
          "text": [
            "/content/GroundingDINO/groundingdino/config/GroundingDINO_SwinT_OGC.py ; exist: True\n"
          ]
        }
      ],
      "source": [
        "import os\n",
        "\n",
        "CONFIG_PATH = os.path.join(HOME, \"GroundingDINO/groundingdino/config/GroundingDINO_SwinT_OGC.py\")\n",
        "print(CONFIG_PATH, \"; exist:\", os.path.isfile(CONFIG_PATH))"
      ]
    },
    {
      "cell_type": "code",
      "execution_count": null,
      "metadata": {
        "colab": {
          "base_uri": "https://localhost:8080/"
        },
        "id": "RLmu3nRnGzZs",
        "outputId": "ce97e236-bed6-475a-9791-f22d930554a7"
      },
      "outputs": [
        {
          "output_type": "stream",
          "name": "stdout",
          "text": [
            "/content\n",
            "mkdir: cannot create directory ‘/content/weights’: File exists\n",
            "/content/weights\n"
          ]
        }
      ],
      "source": [
        "%cd {HOME}\n",
        "!mkdir {HOME}/weights\n",
        "%cd {HOME}/weights\n",
        "\n",
        "!wget -q https://github.com/IDEA-Research/GroundingDINO/releases/download/v0.1.0-alpha/groundingdino_swint_ogc.pth"
      ]
    },
    {
      "cell_type": "code",
      "execution_count": null,
      "metadata": {
        "colab": {
          "base_uri": "https://localhost:8080/"
        },
        "id": "MMA98iyXLV5N",
        "outputId": "8f83b603-b6d4-4cac-9f87-1a934e92f1d9"
      },
      "outputs": [
        {
          "output_type": "stream",
          "name": "stdout",
          "text": [
            "/content/weights/groundingdino_swint_ogc.pth ; exist: True\n"
          ]
        }
      ],
      "source": [
        "import os\n",
        "\n",
        "WEIGHTS_NAME = \"groundingdino_swint_ogc.pth\"\n",
        "WEIGHTS_PATH = os.path.join(HOME, \"weights\", WEIGHTS_NAME)\n",
        "print(WEIGHTS_PATH, \"; exist:\", os.path.isfile(WEIGHTS_PATH))"
      ]
    },
    {
      "cell_type": "code",
      "execution_count": null,
      "metadata": {
        "id": "FI-cmNhkOWzB"
      },
      "outputs": [],
      "source": [
        "!pip install groundingdino-py"
      ]
    },
    {
      "cell_type": "markdown",
      "metadata": {
        "id": "9WcRFeRCm8ai"
      },
      "source": [
        "#Prediccion y guardado de coordenadas y boundingbox\n"
      ]
    },
    {
      "cell_type": "code",
      "execution_count": null,
      "metadata": {
        "colab": {
          "base_uri": "https://localhost:8080/"
        },
        "id": "X_5vMJyBm5g5",
        "outputId": "142e2c61-b3ad-4236-f92e-cf54fbb663bc"
      },
      "outputs": [
        {
          "output_type": "stream",
          "name": "stdout",
          "text": [
            "Drive already mounted at /content/drive; to attempt to forcibly remount, call drive.mount(\"/content/drive\", force_remount=True).\n",
            "[Errno 2] No such file or directory: '/content/groundingdino'\n",
            "/content/weights\n",
            "final text_encoder_type: bert-base-uncased\n",
            "Procesamiento completado. Total de imágenes procesadas: 52\n",
            "Imágenes procesadas:\n",
            "- ck2mc4a7nss4b0748bcn8tobg.jpg\n",
            "- ck2jba6env4w20748456ta3ws.jpg\n",
            "- ck2si6p9r0svl0794nqd113r1.jpg\n",
            "- ck2goa3nkm4p107947m7zs86p.jpg\n",
            "- ck2ybj5cgn3790757hmloxpkp.jpg\n",
            "- ck4cd67gnyltx0921b4wa9ka3.jpg\n",
            "- ck2t118g07oc10944lhdj09vc.jpg\n",
            "- ck2gl4ztbbsw40725l6sha0hh.jpg\n",
            "- ck2oj2qcb1ewu0757h2ucou0l.jpg\n",
            "- ck2oiwrlc1bck07570zwbjxp2.jpg\n",
            "- ck2omywe5ywj50944fjtwtqbv.jpg\n",
            "- ck2kvgnyz2igc0725j0lposxc.jpg\n",
            "- ck2szq5voby9x0757fl3wjgin.jpg\n",
            "- ck4ced9qi01bt0706rjsm99ft.jpg\n",
            "- ck2oieg0210qq0757okd1grmd.jpg\n",
            "- ck2jfqs74xjw70794j78lxs00.jpg\n",
            "- ck2uu18aqjydt0748mo4nlkcr.jpg\n",
            "- ck4cg5x6b1bov07066c2y94rz.jpg\n",
            "- ck2yb6xczdw540794fotv39pt.jpg\n",
            "- ck2oi9y07wddg0944b1xu8r7f.jpg\n",
            "- ck2lte0nfngwt0794cxyfsqb8.jpg\n",
            "- ck2m5ug9trvtu0794h7an0217.jpg\n",
            "- ck2gmvay8ci0n0725lzuur81n.jpg\n",
            "- ck4ck57lnns1408229syq3yxs.jpg\n",
            "- ck4ckafay7rfm0777vhn42gfx.jpg\n",
            "- ck2mbqqd5z29w09445oy4z63y.jpg\n",
            "- ck2jaboffiia10811dw2w64dd.jpg\n",
            "- ck4cf6pum3wjr07776did4yks.jpg\n",
            "- ck2omzwvl0u940721wb68abet.jpg\n",
            "- ck2si0tpuz03p0748fnsnqkw5.jpg\n",
            "- ck4cfrz5j0eg10921wrfakmet.jpg\n",
            "- ck4cgf1xk4tku088663rld8cy.jpg\n",
            "- ck2mc896tgjp00811w9sbebfr.jpg\n",
            "- ck2ogp0msqjp10794kvz0qoik.jpg\n",
            "- ck2oiu3x6wpm40944oo9tjg0j.jpg\n",
            "- ck4cdvo75ja33082201j85eog.jpg\n",
            "- ck2oitxecyn8y07213gomh20h.jpg\n",
            "- ck2on29n93j6k0757c8qmvq7h.jpg\n",
            "- ck4ceq264026u0870sc2i4sif.jpg\n",
            "- ck2sqldelaxlo0757evbqnke1.jpg\n",
            "- ck2sgj29o5g0y0944zvqba1op.jpg\n",
            "- ck2gi1goojxa10794p17jnhw7.jpg\n",
            "- ck2yrkmpfnzwd0838tscmz46b.jpg\n",
            "- ck2yaf9x7avy70748fjgswdat.jpg\n",
            "- ck4cczg672kqz0763mvt77l6h.jpg\n",
            "- ck2oj7cdp1gr90757pf8eycrp.jpg\n",
            "- ck2szq6w3tq1y0725paj6su38.jpg\n",
            "- ck4cked8t3s8609211rc1pwc6.jpg\n",
            "- ck4ch2w9w1z2c0706fik36lbn.jpg\n",
            "- ck2t1u2jzoyql0811btbg21kd.jpg\n",
            "- ck2lt9j0js93f09441v88j5yw.jpg\n",
            "- ck2jecjsk6gik07577n09m02w.jpg\n"
          ]
        }
      ],
      "source": [
        "import os\n",
        "import numpy as np\n",
        "import tensorflow as tf\n",
        "from groundingdino.util.inference import load_model, load_image, predict, annotate\n",
        "import supervision as sv\n",
        "import matplotlib.pyplot as plt\n",
        "from google.colab import drive\n",
        "\n",
        "drive.mount('/content/drive')\n",
        "\n",
        "folder_path = '/content/drive/MyDrive/1 Tesis/Data/TreeDataR/Val/Reales'\n",
        "detections_path = '/content/drive/MyDrive/1 Tesis/Data/DetectTreeVal'\n",
        "boxes_path = '/content/drive/MyDrive/1 Tesis/Data/BoxesTreeVal'\n",
        "\n",
        "os.makedirs(detections_path, exist_ok=True)\n",
        "os.makedirs(boxes_path, exist_ok=True)\n",
        "\n",
        "%cd /content/groundingdino\n",
        "\n",
        "\n",
        "model = load_model(CONFIG_PATH, WEIGHTS_PATH)\n",
        "\n",
        "image_files = [f for f in os.listdir(folder_path) if f.endswith('.png') or f.endswith('.jpg')]\n",
        "\n",
        "processed_images = []\n",
        "\n",
        "for image_name in image_files:\n",
        "    image_path = os.path.join(folder_path, image_name)\n",
        "    image_source, image = load_image(image_path)\n",
        "\n",
        "    TEXT_PROMPT = \"Tree\"\n",
        "    BOX_TRESHOLD = 0.30\n",
        "    TEXT_TRESHOLD = 1\n",
        "\n",
        "    boxes, logits, phrases = predict(\n",
        "        model=model,\n",
        "        image=image,\n",
        "        caption=TEXT_PROMPT,\n",
        "        box_threshold=BOX_TRESHOLD,\n",
        "        text_threshold=TEXT_TRESHOLD\n",
        "    )\n",
        "\n",
        "    annotated_frame = annotate(image_source=image_source, boxes=boxes, logits=logits, phrases=phrases)\n",
        "\n",
        "    npy_image_path = os.path.join(detections_path, f\"{os.path.splitext(image_name)[0]}_detecciones.npy\")\n",
        "    np.save(npy_image_path, annotated_frame)\n",
        "\n",
        "    boxes_file_path = os.path.join(boxes_path, f\"{os.path.splitext(image_name)[0]}_boxes.npy\")\n",
        "    np.save(boxes_file_path, boxes.numpy() if isinstance(boxes, tf.Tensor) else boxes)\n",
        "\n",
        "    processed_images.append(image_name)\n",
        "\n",
        "print(f\"Procesamiento completado. Total de imágenes procesadas: {len(processed_images)}\")\n",
        "print(\"Imágenes procesadas:\")\n",
        "for img in processed_images:\n",
        "    print(f\"- {img}\")\n"
      ]
    },
    {
      "cell_type": "markdown",
      "metadata": {
        "id": "fY9n_rIZPKsU"
      },
      "source": [
        "#Generacion puntos para pseudo mapa de densidad\n"
      ]
    },
    {
      "cell_type": "markdown",
      "metadata": {
        "id": "4Lr0dZ-jjPvp"
      },
      "source": [
        "#Crear Pseudo Mapas de densidad\n"
      ]
    },
    {
      "cell_type": "code",
      "execution_count": null,
      "metadata": {
        "id": "py8wu8A8xfG2"
      },
      "outputs": [],
      "source": [
        "import os\n",
        "import cv2\n",
        "import numpy as np\n",
        "\n",
        "#detections_path = '/content/drive/MyDrive/1 Tesis/Data/DetectTreeTest'\n",
        "#boxes_path = '/content/drive/MyDrive/1 Tesis/Data/BoxesTreeTest'\n",
        "\n",
        "boxes_path = '/content/drive/MyDrive/1 Tesis/Data/BoxesTreeVal'\n",
        "\n",
        "output_folder = '/content/drive/MyDrive/1 Tesis/Data/TreeDataR/Val/PseudoDense'\n",
        "\n",
        "os.makedirs(output_folder, exist_ok=True)\n",
        "\n",
        "boxes_files = [f for f in os.listdir(boxes_path) if f.endswith('.npy')]\n",
        "\n",
        "for boxes_file in boxes_files:\n",
        "    boxes_file_path = os.path.join(boxes_path, boxes_file)\n",
        "    boxes = np.load(boxes_file_path)\n",
        "\n",
        "    black_image = np.zeros((640, 640, 3), dtype=np.uint8)\n",
        "    for box in boxes:\n",
        "        x_center = int(box[0] * 640)\n",
        "        y_center = int(box[1] * 640)\n",
        "\n",
        "        cv2.circle(black_image, (x_center, y_center), radius=5, color=(255, 255, 255), thickness=-1)\n",
        "\n",
        "    imagen_filtrada = cv2.GaussianBlur(black_image, (5, 5), 0)\n",
        "\n",
        "    imagen_normalizada = cv2.normalize(imagen_filtrada, None, 0, 255, cv2.NORM_MINMAX)\n",
        "\n",
        "    output_filename = boxes_file.replace('_boxes.npy', '.png')\n",
        "    output_image_path = os.path.join(output_folder, output_filename)\n",
        "\n",
        "    cv2.imwrite(output_image_path, imagen_normalizada)\n",
        "\n",
        "    print(f\"Imagen filtrada y normalizada guardada en: {output_image_path}\")\n"
      ]
    }
  ],
  "metadata": {
    "accelerator": "GPU",
    "colab": {
      "gpuType": "T4",
      "provenance": [],
      "authorship_tag": "ABX9TyNXiRA5/XO9U0eC942XdjZn",
      "include_colab_link": true
    },
    "kernelspec": {
      "display_name": "Python 3",
      "name": "python3"
    },
    "language_info": {
      "name": "python"
    }
  },
  "nbformat": 4,
  "nbformat_minor": 0
}